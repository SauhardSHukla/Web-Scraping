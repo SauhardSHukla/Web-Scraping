{
 "cells": [
  {
   "cell_type": "markdown",
   "metadata": {},
   "source": [
    "## Problem statement\n",
    "From this link, your task is to retrieve the dropdown data from the 'Resources' category, and inside it, there is another dropdown for 'What is open source?' and 'Open source alternatives' Fetch this data as well. Ensure that you fetch data for all dropdowns within the 'Resources' category.\n",
    "\n",
    "## Output Format:\n",
    "Resources\n",
    "What is open source?\n",
    "The open source way\n",
    "Projects and applications\n",
    "Organizations\n",
    "Open source alternatives\n",
    "Alternatives to Acrobat\n",
    ".\n",
    "."
   ]
  },
  {
   "cell_type": "code",
   "execution_count": 6,
   "metadata": {},
   "outputs": [],
   "source": [
    "import requests\n",
    "from bs4 import BeautifulSoup\n",
    "\n",
    "response_data = requests.get('https://opensource.com/resources')\n",
    "data=BeautifulSoup(response_data.text)\n"
   ]
  },
  {
   "cell_type": "code",
   "execution_count": 20,
   "metadata": {},
   "outputs": [
    {
     "name": "stdout",
     "output_type": "stream",
     "text": [
      "What is open source?\n",
      "\n",
      "\n",
      "The open source way\n",
      "Open source alternatives\n",
      "\n",
      "\n",
      "Alternatives to Acrobat\n",
      "\n",
      "\n",
      "Alternatives to AutoCAD\n",
      "\n",
      "\n",
      "Alternatives to Dreamweaver\n",
      "\n",
      "\n",
      "Alternatives to Gmail\n",
      "\n",
      "\n",
      "Alternatives to MATLAB\n",
      "\n",
      "\n",
      "Alternatives to Minecraft\n",
      "\n",
      "\n",
      "Alternatives to Google Photos\n",
      "\n",
      "\n",
      "Alternatives to Photoshop\n",
      "\n",
      "\n",
      "Alternatives to Skype\n",
      "\n",
      "\n",
      "Alternatives to Slack\n",
      "\n",
      "\n",
      "Alternatives to Trello\n",
      "\n",
      "\n",
      "More...\n"
     ]
    }
   ],
   "source": [
    "for text_data in data.findAll('ul',{'class':'main__submenu'}):\n",
    "  for i in text_data.findAll('li',{'class':'main__item is-expanded'}):\n",
    "    print(i.text.strip())\n"
   ]
  },
  {
   "cell_type": "code",
   "execution_count": 1,
   "metadata": {},
   "outputs": [
    {
     "name": "stdout",
     "output_type": "stream",
     "text": [
      "Resources\n",
      "What is open source?\n",
      "The open source way\n",
      "Projects and applications\n",
      "Organizations\n",
      "Open source alternatives\n",
      "Alternatives to Acrobat\n",
      "Alternatives to AutoCAD\n",
      "Alternatives to Dreamweaver\n",
      "Alternatives to Gmail\n",
      "Alternatives to MATLAB\n",
      "Alternatives to Minecraft\n",
      "Alternatives to Google Photos\n",
      "Alternatives to Photoshop\n",
      "Alternatives to Skype\n",
      "Alternatives to Slack\n",
      "Alternatives to Trello\n",
      "More...\n",
      "Linux\n"
     ]
    }
   ],
   "source": [
    "import requests\n",
    "from bs4 import BeautifulSoup\n",
    "\n",
    "response_data = requests.get('https://opensource.com/resources')\n",
    "data=BeautifulSoup(response_data.text)\n",
    "x = data.findAll(\"li\",{\"class\":\"main__item main__item--active-trail is-expanded\"}) \n",
    "for li_tag in x:\n",
    "    a_tags= li_tag.find_all('a')\n",
    "    for a_tag in a_tags:\n",
    "        print(a_tag.text.strip())\n"
   ]
  }
 ],
 "metadata": {
  "kernelspec": {
   "display_name": "Python 3",
   "language": "python",
   "name": "python3"
  },
  "language_info": {
   "codemirror_mode": {
    "name": "ipython",
    "version": 3
   },
   "file_extension": ".py",
   "mimetype": "text/x-python",
   "name": "python",
   "nbconvert_exporter": "python",
   "pygments_lexer": "ipython3",
   "version": "3.12.3"
  }
 },
 "nbformat": 4,
 "nbformat_minor": 2
}
