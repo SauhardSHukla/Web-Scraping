{
 "cells": [
  {
   "cell_type": "markdown",
   "metadata": {},
   "source": [
    "## Problem statement\n",
    "Find and print the details of all books which are present on first 2 pages of this website.\n",
    "\n",
    "All details include - Title of the book, book page url, Price (in float, without any currency or extra symbol), and quantity in stock (in integer). Save all the details in a dataframe and print in the required format.\n",
    "\n",
    "Note: Remove the Trailing Zeros from price of book.\n",
    "\n",
    "## Output Format :\n",
    " Book1_Title Book1_Link Book1_Price Book1_Quantity\n",
    " Book2_Title Book2_Link Book2_Price Book2_Quantity\n",
    " Book3_Title Book3_Link Book3_Price Book3_Quantity\n",
    " .\n",
    " .\n",
    " ."
   ]
  },
  {
   "cell_type": "code",
   "execution_count": null,
   "metadata": {},
   "outputs": [],
   "source": []
  },
  {
   "cell_type": "code",
   "execution_count": null,
   "metadata": {},
   "outputs": [
    {
     "name": "stdout",
     "output_type": "stream",
     "text": [
      "['a-light-in-the-attic_1000/index.html', 'A Light in the Attic', 'Â£51.77', 'tipping-the-velvet_999/index.html', 'Tipping the Velvet', 'Â£53.74', 'soumission_998/index.html', 'Soumission', 'Â£50.10', 'sharp-objects_997/index.html', 'Sharp Objects', 'Â£47.82', 'sapiens-a-brief-history-of-humankind_996/index.html', 'Sapiens: A Brief History of Humankind', 'Â£54.23', 'the-requiem-red_995/index.html', 'The Requiem Red', 'Â£22.65', 'the-dirty-little-secrets-of-getting-your-dream-job_994/index.html', 'The Dirty Little Secrets of Getting Your Dream Job', 'Â£33.34', 'the-coming-woman-a-novel-based-on-the-life-of-the-infamous-feminist-victoria-woodhull_993/index.html', 'The Coming Woman: A Novel Based on the Life of the Infamous Feminist, Victoria Woodhull', 'Â£17.93', 'the-boys-in-the-boat-nine-americans-and-their-epic-quest-for-gold-at-the-1936-berlin-olympics_992/index.html', 'The Boys in the Boat: Nine Americans and Their Epic Quest for Gold at the 1936 Berlin Olympics', 'Â£22.60', 'the-black-maria_991/index.html', 'The Black Maria', 'Â£52.15', 'starving-hearts-triangular-trade-trilogy-1_990/index.html', 'Starving Hearts (Triangular Trade Trilogy, #1)', 'Â£13.99', 'shakespeares-sonnets_989/index.html', \"Shakespeare's Sonnets\", 'Â£20.66', 'set-me-free_988/index.html', 'Set Me Free', 'Â£17.46', 'scott-pilgrims-precious-little-life-scott-pilgrim-1_987/index.html', \"Scott Pilgrim's Precious Little Life (Scott Pilgrim #1)\", 'Â£52.29', 'rip-it-up-and-start-again_986/index.html', 'Rip it Up and Start Again', 'Â£35.02', 'our-band-could-be-your-life-scenes-from-the-american-indie-underground-1981-1991_985/index.html', 'Our Band Could Be Your Life: Scenes from the American Indie Underground, 1981-1991', 'Â£57.25', 'olio_984/index.html', 'Olio', 'Â£23.88', 'mesaerion-the-best-science-fiction-stories-1800-1849_983/index.html', 'Mesaerion: The Best Science Fiction Stories 1800-1849', 'Â£37.59', 'libertarianism-for-beginners_982/index.html', 'Libertarianism for Beginners', 'Â£51.33', 'its-only-the-himalayas_981/index.html', \"It's Only the Himalayas\", 'Â£45.17', 'in-her-wake_980/index.html', 'In Her Wake', 'Â£12.84', 'how-music-works_979/index.html', 'How Music Works', 'Â£37.32', 'foolproof-preserving-a-guide-to-small-batch-jams-jellies-pickles-condiments-and-more-a-foolproof-guide-to-making-small-batch-jams-jellies-pickles-condiments-and-more_978/index.html', 'Foolproof Preserving: A Guide to Small Batch Jams, Jellies, Pickles, Condiments, and More: A Foolproof Guide to Making Small Batch Jams, Jellies, Pickles, Condiments, and More', 'Â£30.52', 'chase-me-paris-nights-2_977/index.html', 'Chase Me (Paris Nights #2)', 'Â£25.27', 'black-dust_976/index.html', 'Black Dust', 'Â£34.53', 'birdsong-a-story-in-pictures_975/index.html', 'Birdsong: A Story in Pictures', 'Â£54.64', 'americas-cradle-of-quarterbacks-western-pennsylvanias-football-factory-from-johnny-unitas-to-joe-montana_974/index.html', \"America's Cradle of Quarterbacks: Western Pennsylvania's Football Factory from Johnny Unitas to Joe Montana\", 'Â£22.50', 'aladdin-and-his-wonderful-lamp_973/index.html', 'Aladdin and His Wonderful Lamp', 'Â£53.13', 'worlds-elsewhere-journeys-around-shakespeares-globe_972/index.html', 'Worlds Elsewhere: Journeys Around Shakespeareâ\\x80\\x99s Globe', 'Â£40.30', 'wall-and-piece_971/index.html', 'Wall and Piece', 'Â£44.18', 'the-four-agreements-a-practical-guide-to-personal-freedom_970/index.html', 'The Four Agreements: A Practical Guide to Personal Freedom', 'Â£17.66', 'the-five-love-languages-how-to-express-heartfelt-commitment-to-your-mate_969/index.html', 'The Five Love Languages: How to Express Heartfelt Commitment to Your Mate', 'Â£31.05', 'the-elephant-tree_968/index.html', 'The Elephant Tree', 'Â£23.82', 'the-bear-and-the-piano_967/index.html', 'The Bear and the Piano', 'Â£36.89', 'sophies-world_966/index.html', \"Sophie's World\", 'Â£15.94', 'penny-maybe_965/index.html', 'Penny Maybe', 'Â£33.29', 'maude-1883-1993she-grew-up-with-the-country_964/index.html', 'Maude (1883-1993):She Grew Up with the country', 'Â£18.02', 'in-a-dark-dark-wood_963/index.html', 'In a Dark, Dark Wood', 'Â£19.63', 'behind-closed-doors_962/index.html', 'Behind Closed Doors', 'Â£52.22', 'you-cant-bury-them-all-poems_961/index.html', \"You can't bury them all: Poems\", 'Â£33.63', '\\n\\n    \\n        In stock (22 available)\\n    \\n', '\\n\\n    \\n        In stock (20 available)\\n    \\n', '\\n\\n    \\n        In stock (20 available)\\n    \\n', '\\n\\n    \\n        In stock (20 available)\\n    \\n', '\\n\\n    \\n        In stock (20 available)\\n    \\n', '\\n\\n    \\n        In stock (19 available)\\n    \\n', '\\n\\n    \\n        In stock (19 available)\\n    \\n', '\\n\\n    \\n        In stock (19 available)\\n    \\n', '\\n\\n    \\n        In stock (19 available)\\n    \\n', '\\n\\n    \\n        In stock (19 available)\\n    \\n', '\\n\\n    \\n        In stock (19 available)\\n    \\n', '\\n\\n    \\n        In stock (19 available)\\n    \\n', '\\n\\n    \\n        In stock (19 available)\\n    \\n', '\\n\\n    \\n        In stock (19 available)\\n    \\n', '\\n\\n    \\n        In stock (19 available)\\n    \\n', '\\n\\n    \\n        In stock (19 available)\\n    \\n', '\\n\\n    \\n        In stock (19 available)\\n    \\n', '\\n\\n    \\n        In stock (19 available)\\n    \\n', '\\n\\n    \\n        In stock (19 available)\\n    \\n', '\\n\\n    \\n        In stock (19 available)\\n    \\n', '\\n\\n    \\n        In stock (19 available)\\n    \\n', '\\n\\n    \\n        In stock (19 available)\\n    \\n', '\\n\\n    \\n        In stock (19 available)\\n    \\n', '\\n\\n    \\n        In stock (19 available)\\n    \\n', '\\n\\n    \\n        In stock (19 available)\\n    \\n', '\\n\\n    \\n        In stock (19 available)\\n    \\n', '\\n\\n    \\n        In stock (19 available)\\n    \\n', '\\n\\n    \\n        In stock (19 available)\\n    \\n', '\\n\\n    \\n        In stock (18 available)\\n    \\n', '\\n\\n    \\n        In stock (18 available)\\n    \\n', '\\n\\n    \\n        In stock (18 available)\\n    \\n', '\\n\\n    \\n        In stock (18 available)\\n    \\n', '\\n\\n    \\n        In stock (18 available)\\n    \\n', '\\n\\n    \\n        In stock (18 available)\\n    \\n', '\\n\\n    \\n        In stock (18 available)\\n    \\n', '\\n\\n    \\n        In stock (18 available)\\n    \\n', '\\n\\n    \\n        In stock (18 available)\\n    \\n', '\\n\\n    \\n        In stock (18 available)\\n    \\n', '\\n\\n    \\n        In stock (18 available)\\n    \\n', '\\n\\n    \\n        In stock (17 available)\\n    \\n']\n"
     ]
    }
   ],
   "source": [
    "\n",
    "allPages = ['http://books.toscrape.com/catalogue/page-1.html',\n",
    "            'http://books.toscrape.com/catalogue/page-2.html']\n",
    "\n",
    "# column_names = ['Title', 'Link', 'Price', 'Quantity in Stock']\n",
    "\n",
    "import requests\n",
    "from bs4 import  BeautifulSoup\n",
    "all_Data =[]\n",
    "pages_dta=[]\n",
    "\n",
    "for pages in allPages:\n",
    "  response_Data = requests.get(pages) \n",
    "  response_Data_soup=BeautifulSoup(response_Data.text)\n",
    "  for quantity_data in response_Data_soup.find_all('ol',{'class':'row'}):\n",
    "    for col_list in quantity_data.find_all('li',{'class':'col-xs-6 col-sm-4 col-md-3 col-lg-3'}):\n",
    "      for artilce_class in col_list.find_all('article',{'class':'product_pod'}):\n",
    "        for dta  in artilce_class.find_all('a'):\n",
    "          data_href = dta['href']\n",
    "          if 'title' in dta.attrs :\n",
    "            data_title = dta['title']\n",
    "            # print(f' from the main <a> :{data_title}')\n",
    "          else:\n",
    "            data_title = dta.find('img')['alt']\n",
    "            # print(f' fr(om the img :{data_title}')\n",
    "      all_Data.append(data_href)\n",
    "      all_Data.append(data_title)\n",
    "      pages_dta.append(data_href)\n",
    "\n",
    "\n",
    "      for product_price in artilce_class.find_all('div',{'class':'product_price'}) :\n",
    "          # print(product_price)\n",
    "        for price in product_price.find_all('p', {'class': 'price_color'}):\n",
    "            # print(price.text)\n",
    "            all_Data.append(price.text)\n",
    "    \n",
    "\n",
    "# print(pages_dta)\n",
    "for i in range(len( pages_dta)):\n",
    "  # print(pages_dta[i])\n",
    "  url='http://books.toscrape.com/catalogue/'\n",
    "  data_html=url+pages_dta[i]\n",
    "  data=requests.get(data_html)\n",
    "  data  = BeautifulSoup(data.text)\n",
    "  # print(data)\n",
    "  for stock_dta in data.find_all('div',{'class':'col-sm-6 product_main'}):\n",
    "    # print(stock_dta)\n",
    "    for stock_ava in stock_dta.find_all('p',{'class':'instock availability'}):\n",
    "      all_Data.append(stock_ava.text)\n",
    "="
   ]
  }
 ],
 "metadata": {
  "kernelspec": {
   "display_name": "Python 3",
   "language": "python",
   "name": "python3"
  },
  "language_info": {
   "codemirror_mode": {
    "name": "ipython",
    "version": 3
   },
   "file_extension": ".py",
   "mimetype": "text/x-python",
   "name": "python",
   "nbconvert_exporter": "python",
   "pygments_lexer": "ipython3",
   "version": "3.12.3"
  }
 },
 "nbformat": 4,
 "nbformat_minor": 2
}
