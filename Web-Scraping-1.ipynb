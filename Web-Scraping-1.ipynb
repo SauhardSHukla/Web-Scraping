{
 "cells": [
  {
   "cell_type": "markdown",
   "metadata": {},
   "source": [
    "Web Scraping as an beginner:-"
   ]
  },
  {
   "cell_type": "code",
   "execution_count": 15,
   "metadata": {},
   "outputs": [
    {
     "data": {
      "text/plain": [
       "<div class=\"row\">\n",
       "<div class=\"large-12 columns\" id=\"flash-messages\">\n",
       "</div>\n",
       "</div>"
      ]
     },
     "execution_count": 15,
     "metadata": {},
     "output_type": "execute_result"
    }
   ],
   "source": [
    "import requests\n",
    "from bs4 import BeautifulSoup\n",
    "\n",
    "response  = requests.get('https://the-internet.herokuapp.com')\n",
    "Response_data=response.text\n",
    "# print(Response_data) Access all the Data in text form\n",
    "\n",
    "soup=BeautifulSoup(Response_data)\n",
    "soup.body.div\n"
   ]
  },
  {
   "cell_type": "code",
   "execution_count": 17,
   "metadata": {},
   "outputs": [
    {
     "name": "stdout",
     "output_type": "stream",
     "text": [
      "A/B Testing\n",
      "Add/Remove Elements\n",
      "Basic Auth\n",
      "Broken Images\n",
      "Challenging DOM\n",
      "Checkboxes\n",
      "Context Menu\n",
      "Digest Authentication\n",
      "Disappearing Elements\n",
      "Drag and Drop\n",
      "Dropdown\n",
      "Dynamic Content\n",
      "Dynamic Controls\n",
      "Dynamic Loading\n",
      "Entry Ad\n",
      "Exit Intent\n",
      "File Download\n",
      "File Upload\n",
      "Floating Menu\n",
      "Forgot Password\n",
      "Form Authentication\n",
      "Frames\n",
      "Geolocation\n",
      "Horizontal Slider\n",
      "Hovers\n",
      "Infinite Scroll\n",
      "Inputs\n",
      "JQuery UI Menus\n",
      "JavaScript Alerts\n",
      "JavaScript onload event error\n",
      "Key Presses\n",
      "Large & Deep DOM\n",
      "Multiple Windows\n",
      "Nested Frames\n",
      "Notification Messages\n",
      "Redirect Link\n",
      "Secure File Download\n",
      "Shadow DOM\n",
      "Shifting Content\n",
      "Slow Resources\n",
      "Sortable Data Tables\n",
      "Status Codes\n",
      "Typos\n",
      "WYSIWYG Editor\n"
     ]
    }
   ],
   "source": [
    "for list_ele in soup.findAll('li'):\n",
    "    print(list_ele.a.text)"
   ]
  }
 ],
 "metadata": {
  "kernelspec": {
   "display_name": "Python 3",
   "language": "python",
   "name": "python3"
  },
  "language_info": {
   "codemirror_mode": {
    "name": "ipython",
    "version": 3
   },
   "file_extension": ".py",
   "mimetype": "text/x-python",
   "name": "python",
   "nbconvert_exporter": "python",
   "pygments_lexer": "ipython3",
   "version": "3.12.3"
  }
 },
 "nbformat": 4,
 "nbformat_minor": 2
}
