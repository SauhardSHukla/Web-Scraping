{
 "cells": [
  {
   "cell_type": "code",
   "execution_count": 2,
   "metadata": {},
   "outputs": [],
   "source": [
    "from bs4 import BeautifulSoup\n",
    "import requests\n",
    "import pandas as pd"
   ]
  },
  {
   "cell_type": "code",
   "execution_count": 3,
   "metadata": {},
   "outputs": [],
   "source": [
    "data = requests.get('https://ultimateqa.com/simple-html-elements-for-automation/')\n",
    "soup = BeautifulSoup(data.text)\n",
    "# soup"
   ]
  },
  {
   "cell_type": "markdown",
   "metadata": {},
   "source": [
    "##### Extraction of data from the table format from the Site and convert that data into a Pandas DataFrame"
   ]
  },
  {
   "cell_type": "code",
   "execution_count": 4,
   "metadata": {},
   "outputs": [
    {
     "data": {
      "text/html": [
       "<div>\n",
       "<style scoped>\n",
       "    .dataframe tbody tr th:only-of-type {\n",
       "        vertical-align: middle;\n",
       "    }\n",
       "\n",
       "    .dataframe tbody tr th {\n",
       "        vertical-align: top;\n",
       "    }\n",
       "\n",
       "    .dataframe thead th {\n",
       "        text-align: right;\n",
       "    }\n",
       "</style>\n",
       "<table border=\"1\" class=\"dataframe\">\n",
       "  <thead>\n",
       "    <tr style=\"text-align: right;\">\n",
       "      <th></th>\n",
       "      <th>Job</th>\n",
       "      <th>Work</th>\n",
       "      <th>Salary</th>\n",
       "    </tr>\n",
       "  </thead>\n",
       "  <tbody>\n",
       "    <tr>\n",
       "      <th>0</th>\n",
       "      <td>Software Development Engineer in Test</td>\n",
       "      <td>Automation</td>\n",
       "      <td>$150,000+</td>\n",
       "    </tr>\n",
       "    <tr>\n",
       "      <th>1</th>\n",
       "      <td>Automation Testing Architect</td>\n",
       "      <td>Automation</td>\n",
       "      <td>$120,000+</td>\n",
       "    </tr>\n",
       "    <tr>\n",
       "      <th>2</th>\n",
       "      <td>Quality Assurance Engineer</td>\n",
       "      <td>Manual</td>\n",
       "      <td>$50,000+</td>\n",
       "    </tr>\n",
       "  </tbody>\n",
       "</table>\n",
       "</div>"
      ],
      "text/plain": [
       "                                     Job        Work     Salary\n",
       "0  Software Development Engineer in Test  Automation  $150,000+\n",
       "1           Automation Testing Architect  Automation  $120,000+\n",
       "2             Quality Assurance Engineer      Manual   $50,000+"
      ]
     },
     "execution_count": 4,
     "metadata": {},
     "output_type": "execute_result"
    }
   ],
   "source": [
    "main_list=[]\n",
    "\n",
    "for row_dta in soup.find('table',{'id':\"htmlTableId\"}).find_all('tr')[1:]:\n",
    "  list_dta =[]\n",
    "  for dta  in row_dta.find_all('td'):\n",
    "\n",
    "    list_dta.append(dta.text)\n",
    "  main_list.append(list_dta)\n",
    "\n",
    "pd.DataFrame(main_list,columns=('Job','Work','Salary'))"
   ]
  },
  {
   "cell_type": "markdown",
   "metadata": {},
   "source": [
    "#### Extraction of the data from the radio button from the site"
   ]
  },
  {
   "cell_type": "code",
   "execution_count": 5,
   "metadata": {},
   "outputs": [],
   "source": [
    "radio=soup.find('input',{'type':\"radio\",'value':'female'})\n",
    "# radio.text"
   ]
  },
  {
   "cell_type": "code",
   "execution_count": 6,
   "metadata": {},
   "outputs": [
    {
     "name": "stdout",
     "output_type": "stream",
     "text": [
      "female\n"
     ]
    }
   ],
   "source": [
    "for dta in soup.find_all('input', {'type': 'radio'}):\n",
    "  if dta['value'] =='female':\n",
    "    print(dta['value'])"
   ]
  },
  {
   "cell_type": "markdown",
   "metadata": {},
   "source": [
    "#### Extraction of the data from the checkbox button from the site"
   ]
  },
  {
   "cell_type": "code",
   "execution_count": 7,
   "metadata": {},
   "outputs": [
    {
     "name": "stdout",
     "output_type": "stream",
     "text": [
      "Bike\n"
     ]
    }
   ],
   "source": [
    "for data in soup.find_all('input',{'type':'checkbox'}):\n",
    "  # print(data['value'])\n",
    "  \n",
    "  if data['value'] == \"Bike\":\n",
    "    print(data['value'])"
   ]
  },
  {
   "cell_type": "markdown",
   "metadata": {},
   "source": [
    "#### Extraction of the data from the dropdown button from the site"
   ]
  },
  {
   "cell_type": "code",
   "execution_count": 8,
   "metadata": {},
   "outputs": [],
   "source": [
    "dropdwon = soup.find('select')"
   ]
  },
  {
   "cell_type": "code",
   "execution_count": 9,
   "metadata": {},
   "outputs": [
    {
     "name": "stdout",
     "output_type": "stream",
     "text": [
      "Volvo\n",
      "Audi\n"
     ]
    }
   ],
   "source": [
    "for i in dropdwon.find_all('option'):\n",
    "  if i.text == 'Audi' or i['value'] == 'volvo':\n",
    "    print(i.text)"
   ]
  },
  {
   "cell_type": "code",
   "execution_count": 10,
   "metadata": {},
   "outputs": [
    {
     "data": {
      "text/plain": [
       "'Audi'"
      ]
     },
     "execution_count": 10,
     "metadata": {},
     "output_type": "execute_result"
    }
   ],
   "source": [
    "soup.find('option',{'value':'audi'}).text"
   ]
  },
  {
   "cell_type": "code",
   "execution_count": 11,
   "metadata": {},
   "outputs": [
    {
     "data": {
      "text/plain": [
       "'audi'"
      ]
     },
     "execution_count": 11,
     "metadata": {},
     "output_type": "execute_result"
    }
   ],
   "source": [
    "soup.find('option',{'value':'audi'})['value']"
   ]
  },
  {
   "cell_type": "code",
   "execution_count": 12,
   "metadata": {},
   "outputs": [],
   "source": [
    "beautify = requests.get('https://opensource.com/resources')\n",
    "be=BeautifulSoup(beautify.text)"
   ]
  },
  {
   "cell_type": "code",
   "execution_count": 14,
   "metadata": {},
   "outputs": [
    {
     "name": "stdout",
     "output_type": "stream",
     "text": [
      "What is open source?\n",
      "Projects and applications\n",
      "Organizations\n",
      "Open source alternatives\n",
      "Linux\n"
     ]
    }
   ],
   "source": [
    "data_file = be.find(\"ul\", {'class': 'main__submenu'}) \n",
    "for li in data_file.find_all('li',recursive=False):  \n",
    "    link = li.find('a', {'class': 'main__link'})  \n",
    "    if link: \n",
    "        print(link.text)  "
   ]
  },
  {
   "cell_type": "code",
   "execution_count": 15,
   "metadata": {},
   "outputs": [
    {
     "name": "stdout",
     "output_type": "stream",
     "text": [
      "What is open source?\n",
      "The open source way\n",
      "Projects and applications\n",
      "Organizations\n",
      "Open source alternatives\n",
      "Alternatives to Acrobat\n",
      "Alternatives to AutoCAD\n",
      "Alternatives to Dreamweaver\n",
      "Alternatives to Gmail\n",
      "Alternatives to MATLAB\n",
      "Alternatives to Minecraft\n",
      "Alternatives to Google Photos\n",
      "Alternatives to Photoshop\n",
      "Alternatives to Skype\n",
      "Alternatives to Slack\n",
      "Alternatives to Trello\n",
      "More...\n",
      "Linux\n"
     ]
    }
   ],
   "source": [
    "data_file = be.find(\"ul\", {'class': 'main__submenu'}) \n",
    "for li in data_file.find_all('li'):  \n",
    "    link = li.find('a', {'class': 'main__link'})  \n",
    "    if link:\n",
    "        print(link.text)  "
   ]
  },
  {
   "cell_type": "code",
   "execution_count": 17,
   "metadata": {},
   "outputs": [
    {
     "name": "stdout",
     "output_type": "stream",
     "text": [
      "The open source way\n",
      "Alternatives to Acrobat\n",
      "Alternatives to AutoCAD\n",
      "Alternatives to Dreamweaver\n",
      "Alternatives to Gmail\n",
      "Alternatives to MATLAB\n",
      "Alternatives to Minecraft\n",
      "Alternatives to Google Photos\n",
      "Alternatives to Photoshop\n",
      "Alternatives to Skype\n",
      "Alternatives to Slack\n",
      "Alternatives to Trello\n",
      "More...\n"
     ]
    }
   ],
   "source": [
    "data_file = be.find(\"ul\", {'class': 'main__submenu'})  \n",
    "for li in data_file.find_all('li'):\n",
    "    nested_ul = li.find('ul')  \n",
    "    if nested_ul:\n",
    "        for sublink in nested_ul.find_all('a', {'class': 'main__link'}):\n",
    "            print(sublink.text)  "
   ]
  }
 ],
 "metadata": {
  "kernelspec": {
   "display_name": "Python 3",
   "language": "python",
   "name": "python3"
  },
  "language_info": {
   "codemirror_mode": {
    "name": "ipython",
    "version": 3
   },
   "file_extension": ".py",
   "mimetype": "text/x-python",
   "name": "python",
   "nbconvert_exporter": "python",
   "pygments_lexer": "ipython3",
   "version": "3.12.3"
  }
 },
 "nbformat": 4,
 "nbformat_minor": 2
}
